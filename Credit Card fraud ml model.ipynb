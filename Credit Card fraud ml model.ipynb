{
 "cells": [
  {
   "cell_type": "code",
   "execution_count": 35,
   "id": "9dbe0f39",
   "metadata": {},
   "outputs": [],
   "source": [
    "import pandas as pd\n",
    "from imblearn.over_sampling import SMOTE\n",
    "from imblearn.combine import SMOTEENN\n",
    "from sklearn.datasets import make_classification\n",
    "from imblearn.pipeline import make_pipeline\n",
    "from sklearn.linear_model import SGDClassifier\n",
    "from sklearn.ensemble import RandomForestClassifier \n",
    "from sklearn.svm import SVC\n",
    "from sklearn.preprocessing import StandardScaler\n",
    "from sklearn.model_selection import train_test_split\n",
    "\n",
    "import matplotlib.pyplot as plt\n",
    "%matplotlib inline"
   ]
  },
  {
   "cell_type": "code",
   "execution_count": 18,
   "id": "d7d05d4f",
   "metadata": {},
   "outputs": [
    {
     "data": {
      "text/plain": [
       "(50000, 31)"
      ]
     },
     "execution_count": 18,
     "metadata": {},
     "output_type": "execute_result"
    }
   ],
   "source": [
    "df= pd.read_csv('creditcard.csv',nrows=50000)\n",
    "df.shape"
   ]
  },
  {
   "cell_type": "code",
   "execution_count": 5,
   "id": "7a11b8d8",
   "metadata": {},
   "outputs": [
    {
     "name": "stdout",
     "output_type": "stream",
     "text": [
      "<class 'pandas.core.frame.DataFrame'>\n",
      "RangeIndex: 50000 entries, 0 to 49999\n",
      "Data columns (total 31 columns):\n",
      " #   Column  Non-Null Count  Dtype  \n",
      "---  ------  --------------  -----  \n",
      " 0   Time    50000 non-null  int64  \n",
      " 1   V1      50000 non-null  float64\n",
      " 2   V2      50000 non-null  float64\n",
      " 3   V3      50000 non-null  float64\n",
      " 4   V4      50000 non-null  float64\n",
      " 5   V5      50000 non-null  float64\n",
      " 6   V6      50000 non-null  float64\n",
      " 7   V7      50000 non-null  float64\n",
      " 8   V8      50000 non-null  float64\n",
      " 9   V9      50000 non-null  float64\n",
      " 10  V10     50000 non-null  float64\n",
      " 11  V11     50000 non-null  float64\n",
      " 12  V12     50000 non-null  float64\n",
      " 13  V13     50000 non-null  float64\n",
      " 14  V14     50000 non-null  float64\n",
      " 15  V15     50000 non-null  float64\n",
      " 16  V16     50000 non-null  float64\n",
      " 17  V17     50000 non-null  float64\n",
      " 18  V18     50000 non-null  float64\n",
      " 19  V19     50000 non-null  float64\n",
      " 20  V20     50000 non-null  float64\n",
      " 21  V21     50000 non-null  float64\n",
      " 22  V22     50000 non-null  float64\n",
      " 23  V23     50000 non-null  float64\n",
      " 24  V24     50000 non-null  float64\n",
      " 25  V25     50000 non-null  float64\n",
      " 26  V26     50000 non-null  float64\n",
      " 27  V27     50000 non-null  float64\n",
      " 28  V28     50000 non-null  float64\n",
      " 29  Amount  50000 non-null  float64\n",
      " 30  Class   50000 non-null  int64  \n",
      "dtypes: float64(29), int64(2)\n",
      "memory usage: 11.8 MB\n"
     ]
    }
   ],
   "source": [
    "df.info()"
   ]
  },
  {
   "cell_type": "code",
   "execution_count": 6,
   "id": "a0c4a4c3",
   "metadata": {},
   "outputs": [
    {
     "data": {
      "text/html": [
       "<div>\n",
       "<style scoped>\n",
       "    .dataframe tbody tr th:only-of-type {\n",
       "        vertical-align: middle;\n",
       "    }\n",
       "\n",
       "    .dataframe tbody tr th {\n",
       "        vertical-align: top;\n",
       "    }\n",
       "\n",
       "    .dataframe thead th {\n",
       "        text-align: right;\n",
       "    }\n",
       "</style>\n",
       "<table border=\"1\" class=\"dataframe\">\n",
       "  <thead>\n",
       "    <tr style=\"text-align: right;\">\n",
       "      <th></th>\n",
       "      <th>Time</th>\n",
       "      <th>V1</th>\n",
       "      <th>V2</th>\n",
       "      <th>V3</th>\n",
       "      <th>V4</th>\n",
       "      <th>V5</th>\n",
       "      <th>V6</th>\n",
       "      <th>V7</th>\n",
       "      <th>V8</th>\n",
       "      <th>V9</th>\n",
       "      <th>...</th>\n",
       "      <th>V21</th>\n",
       "      <th>V22</th>\n",
       "      <th>V23</th>\n",
       "      <th>V24</th>\n",
       "      <th>V25</th>\n",
       "      <th>V26</th>\n",
       "      <th>V27</th>\n",
       "      <th>V28</th>\n",
       "      <th>Amount</th>\n",
       "      <th>Class</th>\n",
       "    </tr>\n",
       "  </thead>\n",
       "  <tbody>\n",
       "    <tr>\n",
       "      <th>0</th>\n",
       "      <td>0</td>\n",
       "      <td>-1.359807</td>\n",
       "      <td>-0.072781</td>\n",
       "      <td>2.536347</td>\n",
       "      <td>1.378155</td>\n",
       "      <td>-0.338321</td>\n",
       "      <td>0.462388</td>\n",
       "      <td>0.239599</td>\n",
       "      <td>0.098698</td>\n",
       "      <td>0.363787</td>\n",
       "      <td>...</td>\n",
       "      <td>-0.018307</td>\n",
       "      <td>0.277838</td>\n",
       "      <td>-0.110474</td>\n",
       "      <td>0.066928</td>\n",
       "      <td>0.128539</td>\n",
       "      <td>-0.189115</td>\n",
       "      <td>0.133558</td>\n",
       "      <td>-0.021053</td>\n",
       "      <td>149.62</td>\n",
       "      <td>0</td>\n",
       "    </tr>\n",
       "    <tr>\n",
       "      <th>1</th>\n",
       "      <td>0</td>\n",
       "      <td>1.191857</td>\n",
       "      <td>0.266151</td>\n",
       "      <td>0.166480</td>\n",
       "      <td>0.448154</td>\n",
       "      <td>0.060018</td>\n",
       "      <td>-0.082361</td>\n",
       "      <td>-0.078803</td>\n",
       "      <td>0.085102</td>\n",
       "      <td>-0.255425</td>\n",
       "      <td>...</td>\n",
       "      <td>-0.225775</td>\n",
       "      <td>-0.638672</td>\n",
       "      <td>0.101288</td>\n",
       "      <td>-0.339846</td>\n",
       "      <td>0.167170</td>\n",
       "      <td>0.125895</td>\n",
       "      <td>-0.008983</td>\n",
       "      <td>0.014724</td>\n",
       "      <td>2.69</td>\n",
       "      <td>0</td>\n",
       "    </tr>\n",
       "    <tr>\n",
       "      <th>2</th>\n",
       "      <td>1</td>\n",
       "      <td>-1.358354</td>\n",
       "      <td>-1.340163</td>\n",
       "      <td>1.773209</td>\n",
       "      <td>0.379780</td>\n",
       "      <td>-0.503198</td>\n",
       "      <td>1.800499</td>\n",
       "      <td>0.791461</td>\n",
       "      <td>0.247676</td>\n",
       "      <td>-1.514654</td>\n",
       "      <td>...</td>\n",
       "      <td>0.247998</td>\n",
       "      <td>0.771679</td>\n",
       "      <td>0.909412</td>\n",
       "      <td>-0.689281</td>\n",
       "      <td>-0.327642</td>\n",
       "      <td>-0.139097</td>\n",
       "      <td>-0.055353</td>\n",
       "      <td>-0.059752</td>\n",
       "      <td>378.66</td>\n",
       "      <td>0</td>\n",
       "    </tr>\n",
       "    <tr>\n",
       "      <th>3</th>\n",
       "      <td>1</td>\n",
       "      <td>-0.966272</td>\n",
       "      <td>-0.185226</td>\n",
       "      <td>1.792993</td>\n",
       "      <td>-0.863291</td>\n",
       "      <td>-0.010309</td>\n",
       "      <td>1.247203</td>\n",
       "      <td>0.237609</td>\n",
       "      <td>0.377436</td>\n",
       "      <td>-1.387024</td>\n",
       "      <td>...</td>\n",
       "      <td>-0.108300</td>\n",
       "      <td>0.005274</td>\n",
       "      <td>-0.190321</td>\n",
       "      <td>-1.175575</td>\n",
       "      <td>0.647376</td>\n",
       "      <td>-0.221929</td>\n",
       "      <td>0.062723</td>\n",
       "      <td>0.061458</td>\n",
       "      <td>123.50</td>\n",
       "      <td>0</td>\n",
       "    </tr>\n",
       "    <tr>\n",
       "      <th>4</th>\n",
       "      <td>2</td>\n",
       "      <td>-1.158233</td>\n",
       "      <td>0.877737</td>\n",
       "      <td>1.548718</td>\n",
       "      <td>0.403034</td>\n",
       "      <td>-0.407193</td>\n",
       "      <td>0.095921</td>\n",
       "      <td>0.592941</td>\n",
       "      <td>-0.270533</td>\n",
       "      <td>0.817739</td>\n",
       "      <td>...</td>\n",
       "      <td>-0.009431</td>\n",
       "      <td>0.798278</td>\n",
       "      <td>-0.137458</td>\n",
       "      <td>0.141267</td>\n",
       "      <td>-0.206010</td>\n",
       "      <td>0.502292</td>\n",
       "      <td>0.219422</td>\n",
       "      <td>0.215153</td>\n",
       "      <td>69.99</td>\n",
       "      <td>0</td>\n",
       "    </tr>\n",
       "  </tbody>\n",
       "</table>\n",
       "<p>5 rows × 31 columns</p>\n",
       "</div>"
      ],
      "text/plain": [
       "   Time        V1        V2        V3        V4        V5        V6        V7  \\\n",
       "0     0 -1.359807 -0.072781  2.536347  1.378155 -0.338321  0.462388  0.239599   \n",
       "1     0  1.191857  0.266151  0.166480  0.448154  0.060018 -0.082361 -0.078803   \n",
       "2     1 -1.358354 -1.340163  1.773209  0.379780 -0.503198  1.800499  0.791461   \n",
       "3     1 -0.966272 -0.185226  1.792993 -0.863291 -0.010309  1.247203  0.237609   \n",
       "4     2 -1.158233  0.877737  1.548718  0.403034 -0.407193  0.095921  0.592941   \n",
       "\n",
       "         V8        V9  ...       V21       V22       V23       V24       V25  \\\n",
       "0  0.098698  0.363787  ... -0.018307  0.277838 -0.110474  0.066928  0.128539   \n",
       "1  0.085102 -0.255425  ... -0.225775 -0.638672  0.101288 -0.339846  0.167170   \n",
       "2  0.247676 -1.514654  ...  0.247998  0.771679  0.909412 -0.689281 -0.327642   \n",
       "3  0.377436 -1.387024  ... -0.108300  0.005274 -0.190321 -1.175575  0.647376   \n",
       "4 -0.270533  0.817739  ... -0.009431  0.798278 -0.137458  0.141267 -0.206010   \n",
       "\n",
       "        V26       V27       V28  Amount  Class  \n",
       "0 -0.189115  0.133558 -0.021053  149.62      0  \n",
       "1  0.125895 -0.008983  0.014724    2.69      0  \n",
       "2 -0.139097 -0.055353 -0.059752  378.66      0  \n",
       "3 -0.221929  0.062723  0.061458  123.50      0  \n",
       "4  0.502292  0.219422  0.215153   69.99      0  \n",
       "\n",
       "[5 rows x 31 columns]"
      ]
     },
     "execution_count": 6,
     "metadata": {},
     "output_type": "execute_result"
    }
   ],
   "source": [
    "df.head()"
   ]
  },
  {
   "cell_type": "code",
   "execution_count": 7,
   "id": "44daf3ae",
   "metadata": {
    "scrolled": true
   },
   "outputs": [
    {
     "data": {
      "text/plain": [
       "0    49852\n",
       "1      148\n",
       "Name: Class, dtype: int64"
      ]
     },
     "execution_count": 7,
     "metadata": {},
     "output_type": "execute_result"
    }
   ],
   "source": [
    "df.Class.value_counts()"
   ]
  },
  {
   "cell_type": "markdown",
   "id": "ed10e63f",
   "metadata": {},
   "source": [
    "Imbalanced data"
   ]
  },
  {
   "cell_type": "code",
   "execution_count": 19,
   "id": "0d15b1ad",
   "metadata": {},
   "outputs": [],
   "source": [
    "X= df.drop(['Time','Class'],axis=1)"
   ]
  },
  {
   "cell_type": "code",
   "execution_count": 20,
   "id": "612949a5",
   "metadata": {},
   "outputs": [],
   "source": [
    "y=df.Class"
   ]
  },
  {
   "cell_type": "code",
   "execution_count": 21,
   "id": "6b9ae5f8",
   "metadata": {},
   "outputs": [
    {
     "data": {
      "text/plain": [
       "((50000, 29), (50000,))"
      ]
     },
     "execution_count": 21,
     "metadata": {},
     "output_type": "execute_result"
    }
   ],
   "source": [
    "X.shape,y.shape"
   ]
  },
  {
   "cell_type": "markdown",
   "id": "24c0e79b",
   "metadata": {},
   "source": [
    "# Sampling"
   ]
  },
  {
   "cell_type": "markdown",
   "id": "609f0e41",
   "metadata": {},
   "source": [
    "     UnderSampling -> Reducing learger representative \n",
    "     OverSampling -> Increasing smaller representative "
   ]
  },
  {
   "cell_type": "code",
   "execution_count": 22,
   "id": "c3a29e13",
   "metadata": {},
   "outputs": [],
   "source": [
    "X,y= make_classification(n_samples=5000,n_features=2,n_informative=2,\n",
    "                        n_redundant=0, n_repeated=0, n_classes =3,\n",
    "                        n_clusters_per_class =1,\n",
    "                        weights=[0.01,0.05,0.94],\n",
    "                        class_sep=0.8, random_state=0)"
   ]
  },
  {
   "cell_type": "code",
   "execution_count": 23,
   "id": "31e0bff3",
   "metadata": {},
   "outputs": [
    {
     "data": {
      "text/plain": [
       "<matplotlib.collections.PathCollection at 0x27c4952f3c8>"
      ]
     },
     "execution_count": 23,
     "metadata": {},
     "output_type": "execute_result"
    },
    {
     "data": {
      "image/png": "[encoded data removed]",
      "text/plain": [
       "<Figure size 432x288 with 1 Axes>"
      ]
     },
     "metadata": {
      "needs_background": "light"
     },
     "output_type": "display_data"
    }
   ],
   "source": [
    "plt.scatter(X[:,0],X[:,1],c=y,s=10)"
   ]
  },
  {
   "cell_type": "code",
   "execution_count": 25,
   "id": "61e59b6b",
   "metadata": {},
   "outputs": [],
   "source": [
    "X_resampled, y_resampled= SMOTE().fit_resample(X,y)"
   ]
  },
  {
   "cell_type": "code",
   "execution_count": 26,
   "id": "f2136ddc",
   "metadata": {},
   "outputs": [
    {
     "data": {
      "text/plain": [
       "<matplotlib.collections.PathCollection at 0x27c43f68308>"
      ]
     },
     "execution_count": 26,
     "metadata": {},
     "output_type": "execute_result"
    },
    {
     "data": {
      "image/png": "[encoded data removed]",
      "text/plain": [
       "<Figure size 432x288 with 1 Axes>"
      ]
     },
     "metadata": {
      "needs_background": "light"
     },
     "output_type": "display_data"
    }
   ],
   "source": [
    "plt.scatter(X_resampled[:,0],X_resampled[:,1],c=y_resampled,s=10)"
   ]
  },
  {
   "cell_type": "code",
   "execution_count": 27,
   "id": "a3725364",
   "metadata": {},
   "outputs": [],
   "source": [
    "Xresampled, yresampled= SMOTEENN().fit_resample(X,y)"
   ]
  },
  {
   "cell_type": "code",
   "execution_count": 28,
   "id": "e313995c",
   "metadata": {},
   "outputs": [
    {
     "data": {
      "text/plain": [
       "<matplotlib.collections.PathCollection at 0x27c440f0448>"
      ]
     },
     "execution_count": 28,
     "metadata": {},
     "output_type": "execute_result"
    },
    {
     "data": {
      "image/png": "[encoded data removed]",
      "text/plain": [
       "<Figure size 432x288 with 1 Axes>"
      ]
     },
     "metadata": {
      "needs_background": "light"
     },
     "output_type": "display_data"
    }
   ],
   "source": [
    "plt.scatter(Xresampled[:,0],Xresampled[:,1],c=yresampled,s=10)"
   ]
  },
  {
   "cell_type": "markdown",
   "id": "6ee87566",
   "metadata": {},
   "source": [
    "As surrounding data is not of the particular class it removes that and try to generate more from that class"
   ]
  },
  {
   "cell_type": "markdown",
   "id": "c62e8013",
   "metadata": {},
   "source": [
    "# Choosing Estimator"
   ]
  },
  {
   "cell_type": "code",
   "execution_count": 30,
   "id": "b0e80e45",
   "metadata": {},
   "outputs": [],
   "source": [
    "models=[SGDClassifier(),RandomForestClassifier(),SVC()]\n",
    "samplers=[SMOTE(),SMOTEENN()]"
   ]
  },
  {
   "cell_type": "code",
   "execution_count": 32,
   "id": "6d483525",
   "metadata": {},
   "outputs": [],
   "source": [
    "model_pipelines=[]\n",
    "for model in models:\n",
    "    for sampler in samplers:\n",
    "        pipeline=make_pipeline(StandardScaler(),sampler,model)\n",
    "        model_pipelines.append(pipeline)"
   ]
  },
  {
   "cell_type": "code",
   "execution_count": 33,
   "id": "1b3038e7",
   "metadata": {},
   "outputs": [
    {
     "data": {
      "text/plain": [
       "[Pipeline(steps=[('standardscaler', StandardScaler()), ('smote', SMOTE()),\n",
       "                 ('sgdclassifier', SGDClassifier())]),\n",
       " Pipeline(steps=[('standardscaler', StandardScaler()), ('smoteenn', SMOTEENN()),\n",
       "                 ('sgdclassifier', SGDClassifier())]),\n",
       " Pipeline(steps=[('standardscaler', StandardScaler()), ('smote', SMOTE()),\n",
       "                 ('randomforestclassifier', RandomForestClassifier())]),\n",
       " Pipeline(steps=[('standardscaler', StandardScaler()), ('smoteenn', SMOTEENN()),\n",
       "                 ('randomforestclassifier', RandomForestClassifier())]),\n",
       " Pipeline(steps=[('standardscaler', StandardScaler()), ('smote', SMOTE()),\n",
       "                 ('svc', SVC())]),\n",
       " Pipeline(steps=[('standardscaler', StandardScaler()), ('smoteenn', SMOTEENN()),\n",
       "                 ('svc', SVC())])]"
      ]
     },
     "execution_count": 33,
     "metadata": {},
     "output_type": "execute_result"
    }
   ],
   "source": [
    "model_pipelines"
   ]
  },
  {
   "cell_type": "code",
   "execution_count": 34,
   "id": "2ed91e9a",
   "metadata": {},
   "outputs": [
    {
     "data": {
      "text/plain": [
       "((50000, 29), (50000,))"
      ]
     },
     "execution_count": 34,
     "metadata": {},
     "output_type": "execute_result"
    }
   ],
   "source": [
    "X=df.drop(['Time','Class'],axis=1)\n",
    "y=df.Class\n",
    "X.shape,y.shape"
   ]
  },
  {
   "cell_type": "code",
   "execution_count": 37,
   "id": "4aabaab6",
   "metadata": {},
   "outputs": [],
   "source": [
    "X_train,X_test,y_train,y_test=train_test_split(X,y)"
   ]
  },
  {
   "cell_type": "code",
   "execution_count": 38,
   "id": "edfbe6f3",
   "metadata": {},
   "outputs": [],
   "source": [
    "for pipeline in model_pipelines:\n",
    "    pipeline.fit(X_train,y_train)"
   ]
  },
  {
   "cell_type": "code",
   "execution_count": 40,
   "id": "b6d5e7a2",
   "metadata": {},
   "outputs": [
    {
     "name": "stdout",
     "output_type": "stream",
     "text": [
      "Pipeline(steps=[('standardscaler', StandardScaler()), ('smote', SMOTE()),\n",
      "                ('sgdclassifier', SGDClassifier())]) score: 0.98808 \n",
      "Pipeline(steps=[('standardscaler', StandardScaler()), ('smoteenn', SMOTEENN()),\n",
      "                ('sgdclassifier', SGDClassifier())]) score: 0.98808 \n",
      "Pipeline(steps=[('standardscaler', StandardScaler()), ('smote', SMOTE()),\n",
      "                ('randomforestclassifier', RandomForestClassifier())]) score: 0.99928 \n",
      "Pipeline(steps=[('standardscaler', StandardScaler()), ('smoteenn', SMOTEENN()),\n",
      "                ('randomforestclassifier', RandomForestClassifier())]) score: 0.99928 \n",
      "Pipeline(steps=[('standardscaler', StandardScaler()), ('smote', SMOTE()),\n",
      "                ('svc', SVC())]) score: 0.99376 \n",
      "Pipeline(steps=[('standardscaler', StandardScaler()), ('smoteenn', SMOTEENN()),\n",
      "                ('svc', SVC())]) score: 0.99376 \n"
     ]
    }
   ],
   "source": [
    "for pipeline in model_pipelines:\n",
    "    print('{} score: {} '.format(pipeline,pipeline.score(X_test,y_test)))"
   ]
  },
  {
   "cell_type": "code",
   "execution_count": null,
   "id": "be16eed8",
   "metadata": {},
   "outputs": [],
   "source": []
  }
 ],
 "metadata": {
  "kernelspec": {
   "display_name": "Python 3",
   "language": "python",
   "name": "python3"
  },
  "language_info": {
   "codemirror_mode": {
    "name": "ipython",
    "version": 3
   },
   "file_extension": ".py",
   "mimetype": "text/x-python",
   "name": "python",
   "nbconvert_exporter": "python",
   "pygments_lexer": "ipython3",
   "version": "3.7.11"
  }
 },
 "nbformat": 4,
 "nbformat_minor": 5
}
